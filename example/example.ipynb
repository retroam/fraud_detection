{
 "cells": [
  {
   "cell_type": "code",
   "execution_count": 2,
   "metadata": {},
   "outputs": [],
   "source": [
    "import pandas as pd\n",
    "import evidently\n",
    "from evidently.report import Report\n",
    "from evidently.metric_preset import DataDriftPreset, RegressionPreset\n",
    "from fraud_detection.data import load_data\n",
    "from fraud_detection.models import train_model\n",
    "from fraud_detection.utils import setup_logger\n",
    "import joblib"
   ]
  },
  {
   "cell_type": "markdown",
   "metadata": {},
   "source": []
  },
  {
   "cell_type": "code",
   "execution_count": 3,
   "metadata": {},
   "outputs": [],
   "source": [
    "# Setting up the logger\n",
    "logger = setup_logger()"
   ]
  },
  {
   "cell_type": "code",
   "execution_count": 5,
   "metadata": {},
   "outputs": [
    {
     "name": "stderr",
     "output_type": "stream",
     "text": [
      "2024-10-15 23:18:55,109 - fraud_detection - INFO - Loading data...\n",
      "2024-10-15 23:18:55,109 - fraud_detection - INFO - Loading data...\n",
      "2024-10-15 23:18:55,116 - fraud_detection - ERROR - Error loading data: IO Error: Cannot open database \"/Users/robertamanfu/Documents/misc/fraud_detection/interview_database.db\" in read-only mode: database does not exist\n",
      "2024-10-15 23:18:55,116 - fraud_detection - ERROR - Error loading data: IO Error: Cannot open database \"/Users/robertamanfu/Documents/misc/fraud_detection/interview_database.db\" in read-only mode: database does not exist\n"
     ]
    },
    {
     "ename": "IOException",
     "evalue": "IO Error: Cannot open database \"/Users/robertamanfu/Documents/misc/fraud_detection/interview_database.db\" in read-only mode: database does not exist",
     "output_type": "error",
     "traceback": [
      "\u001b[0;31m---------------------------------------------------------------------------\u001b[0m",
      "\u001b[0;31mIOException\u001b[0m                               Traceback (most recent call last)",
      "Cell \u001b[0;32mIn[5], line 5\u001b[0m\n\u001b[1;32m      3\u001b[0m query_file \u001b[38;5;241m=\u001b[39m \u001b[38;5;124m'\u001b[39m\u001b[38;5;124mdata.sql\u001b[39m\u001b[38;5;124m'\u001b[39m\n\u001b[1;32m      4\u001b[0m logger\u001b[38;5;241m.\u001b[39minfo(\u001b[38;5;124m\"\u001b[39m\u001b[38;5;124mLoading data...\u001b[39m\u001b[38;5;124m\"\u001b[39m)\n\u001b[0;32m----> 5\u001b[0m data \u001b[38;5;241m=\u001b[39m \u001b[43mload_data\u001b[49m\u001b[43m(\u001b[49m\u001b[43mdb_path\u001b[49m\u001b[43m,\u001b[49m\u001b[43m \u001b[49m\u001b[43mquery_file\u001b[49m\u001b[43m,\u001b[49m\u001b[43m \u001b[49m\u001b[43mwinsorize_data\u001b[49m\u001b[38;5;241;43m=\u001b[39;49m\u001b[38;5;28;43;01mTrue\u001b[39;49;00m\u001b[43m)\u001b[49m\n",
      "File \u001b[0;32m~/Documents/misc/fraud_detection/fraud_detection/data.py:15\u001b[0m, in \u001b[0;36mload_data\u001b[0;34m(db_path, query_file, winsorize_data)\u001b[0m\n\u001b[1;32m     13\u001b[0m \u001b[38;5;28;01mwith\u001b[39;00m \u001b[38;5;28mopen\u001b[39m(query_file, \u001b[38;5;124m'\u001b[39m\u001b[38;5;124mr\u001b[39m\u001b[38;5;124m'\u001b[39m) \u001b[38;5;28;01mas\u001b[39;00m file:\n\u001b[1;32m     14\u001b[0m     query \u001b[38;5;241m=\u001b[39m file\u001b[38;5;241m.\u001b[39mread()\n\u001b[0;32m---> 15\u001b[0m con \u001b[38;5;241m=\u001b[39m \u001b[43mduckdb\u001b[49m\u001b[38;5;241;43m.\u001b[39;49m\u001b[43mconnect\u001b[49m\u001b[43m(\u001b[49m\u001b[43mdatabase\u001b[49m\u001b[38;5;241;43m=\u001b[39;49m\u001b[43mdb_path\u001b[49m\u001b[43m,\u001b[49m\u001b[43m \u001b[49m\u001b[43mread_only\u001b[49m\u001b[38;5;241;43m=\u001b[39;49m\u001b[38;5;28;43;01mTrue\u001b[39;49;00m\u001b[43m)\u001b[49m\n\u001b[1;32m     16\u001b[0m data \u001b[38;5;241m=\u001b[39m con\u001b[38;5;241m.\u001b[39mexecute(query)\u001b[38;5;241m.\u001b[39mfetchdf()\n\u001b[1;32m     17\u001b[0m \u001b[38;5;28;01mif\u001b[39;00m winsorize_data:\n",
      "\u001b[0;31mIOException\u001b[0m: IO Error: Cannot open database \"/Users/robertamanfu/Documents/misc/fraud_detection/interview_database.db\" in read-only mode: database does not exist"
     ]
    }
   ],
   "source": [
    "# Load the data\n",
    "db_path = 'interview_database.db'\n",
    "query_file = 'data.sql'\n",
    "logger.info(\"Loading data...\")\n",
    "data = load_data(db_path, query_file, winsorize_data=True)\n"
   ]
  },
  {
   "cell_type": "code",
   "execution_count": null,
   "metadata": {},
   "outputs": [],
   "source": [
    "# Splitting the data into training and testing sets\n",
    "from sklearn.model_selection import train_test_split\n",
    "X = data.drop(columns=['is_fraud'])\n",
    "y = data['is_fraud']\n",
    "X_train, X_test, y_train, y_test = train_test_split(X, y, test_size=0.2, random_state=42)\n",
    "\n",
    "# Train the model\n",
    "logger.info(\"Training the model...\")\n",
    "model = train_model('logistic')\n",
    "model.fit(X_train, y_train)\n",
    "\n",
    "# Save the model\n",
    "joblib.dump(model, 'fraud_detection_model.pkl')\n",
    "logger.info(\"Model saved as fraud_detection_model.pkl\")\n",
    "\n",
    "# Generate predictions\n",
    "y_pred = model.predict(X_test)\n"
   ]
  },
  {
   "cell_type": "code",
   "execution_count": null,
   "metadata": {},
   "outputs": [],
   "source": [
    "# Create an Evidently profile\n",
    "profile = Profile(sections=[DataDriftProfileSection(), RegressionPerformanceProfileSection()])\n",
    "profile.calculate(reference_data=X_train, current_data=X_test, reference_target=y_train, current_target=y_test)\n",
    "profile.to_file(\"model_profile.json\")\n",
    "\n",
    "# Create an Evidently dashboard\n",
    "dashboard = Dashboard(tabs=[DataDriftTab(), RegressionPerformanceTab()])\n",
    "dashboard.calculate(reference_data=X_train, current_data=X_test, reference_target=y_train, current_target=y_test)\n",
    "dashboard.save(\"model_dashboard.html\")\n",
    "\n",
    "# Create a model card using Evidently\n",
    "from evidently.report import Report\n",
    "from evidently.report.sections import RegressionPerformanceMetricsSection, ModelOverviewSection\n",
    "\n",
    "model_card = Report(sections=[ModelOverviewSection(), RegressionPerformanceMetricsSection()])\n",
    "model_card.calculate(reference_data=X_train, current_data=X_test, reference_target=y_train, current_target=y_test)\n",
    "model_card.save(\"model_card.html\")\n",
    "\n",
    "# Output information\n",
    "logger.info(\"Model profile saved as model_profile.json\")\n",
    "logger.info(\"Model dashboard saved as model_dashboard.html\")\n",
    "logger.info(\"Model card saved as model_card.html\")"
   ]
  }
 ],
 "metadata": {
  "kernelspec": {
   "display_name": ".venv",
   "language": "python",
   "name": "python3"
  },
  "language_info": {
   "codemirror_mode": {
    "name": "ipython",
    "version": 3
   },
   "file_extension": ".py",
   "mimetype": "text/x-python",
   "name": "python",
   "nbconvert_exporter": "python",
   "pygments_lexer": "ipython3",
   "version": "3.11.3"
  }
 },
 "nbformat": 4,
 "nbformat_minor": 2
}
